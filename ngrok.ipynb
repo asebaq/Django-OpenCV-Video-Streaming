{
 "cells": [
  {
   "cell_type": "code",
   "execution_count": 1,
   "metadata": {},
   "outputs": [
    {
     "name": "stdout",
     "output_type": "stream",
     "text": [
      "                                                                                                    \r"
     ]
    },
    {
     "data": {
      "text/plain": [
       "<NgrokTunnel: \"http://7f90-156-193-178-254.ngrok-free.app\" -> \"http://localhost:8000\">"
      ]
     },
     "execution_count": 1,
     "metadata": {},
     "output_type": "execute_result"
    },
    {
     "name": "stderr",
     "output_type": "stream",
     "text": [
      "t=2024-02-08T11:25:38+0200 lvl=warn msg=\"failed to open private leg\" id=d5b20e85f0dc privaddr=localhost:8000 err=\"dial tcp 127.0.0.1:8000: connect: connection refused\"\n",
      "t=2024-02-08T11:25:40+0200 lvl=warn msg=\"failed to open private leg\" id=128dc6613d1d privaddr=localhost:8000 err=\"dial tcp 127.0.0.1:8000: connect: connection refused\"\n",
      "t=2024-02-08T11:25:42+0200 lvl=warn msg=\"failed to open private leg\" id=e61d61397ed7 privaddr=localhost:8000 err=\"dial tcp 127.0.0.1:8000: connect: connection refused\"\n",
      "t=2024-02-08T11:25:44+0200 lvl=warn msg=\"failed to open private leg\" id=014bc0b19039 privaddr=localhost:8000 err=\"dial tcp 127.0.0.1:8000: connect: connection refused\"\n",
      "t=2024-02-08T11:25:46+0200 lvl=warn msg=\"failed to open private leg\" id=e3e129b8c65d privaddr=localhost:8000 err=\"dial tcp 127.0.0.1:8000: connect: connection refused\"\n",
      "t=2024-02-08T11:25:48+0200 lvl=warn msg=\"failed to open private leg\" id=b25a2a58c4f5 privaddr=localhost:8000 err=\"dial tcp 127.0.0.1:8000: connect: connection refused\"\n",
      "t=2024-02-08T11:25:50+0200 lvl=warn msg=\"failed to open private leg\" id=d5bc9d63d8a1 privaddr=localhost:8000 err=\"dial tcp 127.0.0.1:8000: connect: connection refused\"\n",
      "t=2024-02-08T11:25:52+0200 lvl=warn msg=\"failed to open private leg\" id=52227025d975 privaddr=localhost:8000 err=\"dial tcp 127.0.0.1:8000: connect: connection refused\"\n",
      "t=2024-02-08T11:25:54+0200 lvl=warn msg=\"failed to open private leg\" id=79d2f0ffcfdd privaddr=localhost:8000 err=\"dial tcp 127.0.0.1:8000: connect: connection refused\"\n",
      "t=2024-02-08T11:25:56+0200 lvl=warn msg=\"failed to open private leg\" id=ab53d6e1386e privaddr=localhost:8000 err=\"dial tcp 127.0.0.1:8000: connect: connection refused\"\n",
      "t=2024-02-08T11:25:59+0200 lvl=warn msg=\"failed to open private leg\" id=07a2553b0107 privaddr=localhost:8000 err=\"dial tcp 127.0.0.1:8000: connect: connection refused\"\n",
      "t=2024-02-08T11:26:01+0200 lvl=warn msg=\"failed to open private leg\" id=f4bbe68ffda4 privaddr=localhost:8000 err=\"dial tcp 127.0.0.1:8000: connect: connection refused\"\n",
      "t=2024-02-08T11:26:03+0200 lvl=warn msg=\"failed to open private leg\" id=2215e921eb3a privaddr=localhost:8000 err=\"dial tcp 127.0.0.1:8000: connect: connection refused\"\n",
      "t=2024-02-08T11:26:05+0200 lvl=warn msg=\"failed to open private leg\" id=bbb6c6ef93dc privaddr=localhost:8000 err=\"dial tcp 127.0.0.1:8000: connect: connection refused\"\n",
      "t=2024-02-08T11:26:07+0200 lvl=warn msg=\"failed to open private leg\" id=25b38c0fea92 privaddr=localhost:8000 err=\"dial tcp 127.0.0.1:8000: connect: connection refused\"\n",
      "t=2024-02-08T11:26:09+0200 lvl=warn msg=\"failed to open private leg\" id=e8cbc1847415 privaddr=localhost:8000 err=\"dial tcp 127.0.0.1:8000: connect: connection refused\"\n"
     ]
    }
   ],
   "source": [
    "from pyngrok import ngrok\n",
    "ngrok.kill()\n",
    "# You can get your authtoken from https://dashboard.ngrok.com/auth\n",
    "auth_token = '2MBBpglFtyIYedSYhqf3J9qadxk_3aCaoe72L8oBJZbm8kmMo' # I prepared this for you, but you can get your own\n",
    "ngrok.set_auth_token(auth_token)\n",
    "\n",
    "ngrok.connect(8000) # You can change the port number if you want"
   ]
  },
  {
   "cell_type": "code",
   "execution_count": null,
   "metadata": {},
   "outputs": [],
   "source": []
  }
 ],
 "metadata": {
  "kernelspec": {
   "display_name": "Python 3",
   "language": "python",
   "name": "python3"
  },
  "language_info": {
   "codemirror_mode": {
    "name": "ipython",
    "version": 3
   },
   "file_extension": ".py",
   "mimetype": "text/x-python",
   "name": "python",
   "nbconvert_exporter": "python",
   "pygments_lexer": "ipython3",
   "version": "3.8.18"
  },
  "orig_nbformat": 4
 },
 "nbformat": 4,
 "nbformat_minor": 2
}
